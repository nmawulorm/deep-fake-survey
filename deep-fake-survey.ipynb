{
 "cells": [
  {
   "metadata": {},
   "cell_type": "markdown",
   "source": [
    "# ===================================\n",
    "# 1. Import Libraries\n",
    "# ==================================="
   ],
   "id": "fb8c1a42d005999a"
  },
  {
   "cell_type": "code",
   "id": "initial_id",
   "metadata": {
    "collapsed": true,
    "ExecuteTime": {
     "end_time": "2025-08-10T18:37:19.939315Z",
     "start_time": "2025-08-10T18:37:19.925414Z"
    }
   },
   "source": [
    "\n",
    "import pandas as pd\n",
    "import matplotlib.pyplot as plt\n",
    "import seaborn as sns\n"
   ],
   "outputs": [],
   "execution_count": 2
  },
  {
   "metadata": {},
   "cell_type": "markdown",
   "source": "## Set the styles for plots",
   "id": "205fdb631e84c2e7"
  },
  {
   "metadata": {
    "ExecuteTime": {
     "end_time": "2025-08-10T18:37:52.264993Z",
     "start_time": "2025-08-10T18:37:52.247030Z"
    }
   },
   "cell_type": "code",
   "source": [
    "sns.set(style=\"whitegrid\")\n",
    "plt.rcParams[\"figure.figsize\"] = (10,6)\n"
   ],
   "id": "a3b865819cc380b",
   "outputs": [],
   "execution_count": 3
  },
  {
   "metadata": {},
   "cell_type": "markdown",
   "source": [
    "# ===================================\n",
    "# 2. Load the Google Forms Data\n",
    "# ===================================\n",
    "# Replace 'survey.csv' with your file name"
   ],
   "id": "dee6c0be6d04a518"
  },
  {
   "metadata": {
    "ExecuteTime": {
     "end_time": "2025-08-10T18:41:25.337672Z",
     "start_time": "2025-08-10T18:41:25.325889Z"
    }
   },
   "cell_type": "code",
   "source": "df = pd.read_csv(\"deep-fake-survey.csv\")",
   "id": "9f8ccdc03bb33410",
   "outputs": [],
   "execution_count": 4
  },
  {
   "metadata": {},
   "cell_type": "markdown",
   "source": "## Quick preview of data",
   "id": "1fd49601770a17c0"
  },
  {
   "metadata": {
    "ExecuteTime": {
     "end_time": "2025-08-10T18:41:47.244364Z",
     "start_time": "2025-08-10T18:41:47.212408Z"
    }
   },
   "cell_type": "code",
   "source": [
    "print(\"Data Shape:\", df.shape)\n",
    "df.head()"
   ],
   "id": "ea9b7b6dfa67b939",
   "outputs": [
    {
     "name": "stdout",
     "output_type": "stream",
     "text": [
      "Data Shape: (30, 18)\n"
     ]
    },
    {
     "data": {
      "text/plain": [
       "                    Timestamp  \\\n",
       "0  2025/07/28 12:18:58 PM GMT   \n",
       "1  2025/07/28 12:34:01 PM GMT   \n",
       "2   2025/07/28 2:11:26 PM GMT   \n",
       "3   2025/07/28 5:22:14 PM GMT   \n",
       "4   2025/07/28 5:34:31 PM GMT   \n",
       "\n",
       "  I consent to participate in this research study on deepfake cybersecurity threats and understand that all data will remain anonymous.  \\\n",
       "0                                                Yes                                                                                      \n",
       "1                                                Yes                                                                                      \n",
       "2                                                Yes                                                                                      \n",
       "3                                                Yes                                                                                      \n",
       "4                                                Yes                                                                                      \n",
       "\n",
       "  Are you currently working in one of the following fields?  \\\n",
       "0                                                NaN          \n",
       "1  Cybersecurity;IT Governance / Risk / Complianc...          \n",
       "2                     Technology Policy / Regulation          \n",
       "3                                      Cybersecurity          \n",
       "4                  Information Technology Researcher          \n",
       "\n",
       "   How familiar are you with the concept of deepfakes?  \\\n",
       "0                                                  3     \n",
       "1                                                  3     \n",
       "2                                                  1     \n",
       "3                                                  5     \n",
       "4                                                  5     \n",
       "\n",
       "  Have you or your organisation experienced or investigated a deepfake-related incident?  \\\n",
       "0                                                 No                                       \n",
       "1                                                 No                                       \n",
       "2                                                 No                                       \n",
       "3                                                 No                                       \n",
       "4                                                 No                                       \n",
       "\n",
       "  Which of the following do you believe deepfakes can be used for? (Select all that apply)  \\\n",
       "0  Pornographic or non-consensual content;Politic...                                         \n",
       "1  Financial fraud / impersonation;Disinformation...                                         \n",
       "2  Financial fraud / impersonation;Disinformation...                                         \n",
       "3  Financial fraud / impersonation;Disinformation...                                         \n",
       "4  Financial fraud / impersonation;Disinformation...                                         \n",
       "\n",
       "  Does your organisation currently have any policies, protocols or training programs related to deepfakes or synthetic media threats?  \\\n",
       "0                                                 No                                                                                    \n",
       "1                                     In development                                                                                    \n",
       "2                                                Yes                                                                                    \n",
       "3                                           Not sure                                                                                    \n",
       "4                                                Yes                                                                                    \n",
       "\n",
       "   How confident are you in your organisation’s ability to detect or respond to deepfake threats?  \\\n",
       "0                                                  2                                                \n",
       "1                                                  2                                                \n",
       "2                                                  3                                                \n",
       "3                                                  1                                                \n",
       "4                                                  5                                                \n",
       "\n",
       "  Has your team received any formal training or awareness sessions related to deepfakes in the last 12 months?  \\\n",
       "0                                                 No                                                             \n",
       "1                                                Yes                                                             \n",
       "2                                                Yes                                                             \n",
       "3                                                 No                                                             \n",
       "4                                                 No                                                             \n",
       "\n",
       "  Which of the following tools or methods have you heard of for detecting or verifying deepfakes? (Select all that apply)  \\\n",
       "0  AI-based forensic tools (e.g., Deepware, Micro...                                                                        \n",
       "1  AI-based forensic tools (e.g., Deepware, Micro...                                                                        \n",
       "2  AI-based forensic tools (e.g., Deepware, Micro...                                                                        \n",
       "3  AI-based forensic tools (e.g., Deepware, Micro...                                                                        \n",
       "4  Browser or platform-level filters (e.g., Meta,...                                                                        \n",
       "\n",
       "   How effective do you believe current deepfake detection technologies are?  \\\n",
       "0                                                  3                           \n",
       "1                                                  3                           \n",
       "2                                                  4                           \n",
       "3                                                  3                           \n",
       "4                                                  2                           \n",
       "\n",
       "  What do you perceive as the main barriers to implementing deepfake detection tools in organisations?  \\\n",
       "0                                               Cost                                                     \n",
       "1                      Lack of awareness or training                                                     \n",
       "2          Lack of regulation or compliance pressure                                                     \n",
       "3          Lack of regulation or compliance pressure                                                     \n",
       "4          Lack of regulation or compliance pressure                                                     \n",
       "\n",
       "  Are you aware of any national or international legal frameworks addressing the regulation of deepfakes or synthetic media?  \\\n",
       "0                                                 No                                                                           \n",
       "1                                                Yes                                                                           \n",
       "2                                                 No                                                                           \n",
       "3                                                 No                                                                           \n",
       "4                                                 No                                                                           \n",
       "\n",
       "   How sufficient do you believe current legal frameworks are in addressing deepfake-related threats?  \\\n",
       "0                                                  3                                                    \n",
       "1                                                  3                                                    \n",
       "2                                                  2                                                    \n",
       "3                                                  2                                                    \n",
       "4                                                  1                                                    \n",
       "\n",
       "  Do you think there should be mandatory detection or labelling of synthetic content shared online (e.g., videos, images)?  \\\n",
       "0                                                Yes                                                                         \n",
       "1                                                Yes                                                                         \n",
       "2                                                Yes                                                                         \n",
       "3                                                Yes                                                                         \n",
       "4                                                Yes                                                                         \n",
       "\n",
       "  Country of residence                    Job title / role  \\\n",
       "0               Ghana                            Teaching    \n",
       "1                Ghana                 Blockchain Engineer   \n",
       "2                Ghana                      IT Instructor    \n",
       "3                   UK                    Security Analist   \n",
       "4                  USA  Information Technology Researcher    \n",
       "\n",
       "  Years of professional experience in your field  \n",
       "0                                            3–5  \n",
       "1                                            3–5  \n",
       "2                                           6–10  \n",
       "3                                            0–2  \n",
       "4                                            0–2  "
      ],
      "text/html": [
       "<div>\n",
       "<style scoped>\n",
       "    .dataframe tbody tr th:only-of-type {\n",
       "        vertical-align: middle;\n",
       "    }\n",
       "\n",
       "    .dataframe tbody tr th {\n",
       "        vertical-align: top;\n",
       "    }\n",
       "\n",
       "    .dataframe thead th {\n",
       "        text-align: right;\n",
       "    }\n",
       "</style>\n",
       "<table border=\"1\" class=\"dataframe\">\n",
       "  <thead>\n",
       "    <tr style=\"text-align: right;\">\n",
       "      <th></th>\n",
       "      <th>Timestamp</th>\n",
       "      <th>I consent to participate in this research study on deepfake cybersecurity threats and understand that all data will remain anonymous.</th>\n",
       "      <th>Are you currently working in one of the following fields?</th>\n",
       "      <th>How familiar are you with the concept of deepfakes?</th>\n",
       "      <th>Have you or your organisation experienced or investigated a deepfake-related incident?</th>\n",
       "      <th>Which of the following do you believe deepfakes can be used for? (Select all that apply)</th>\n",
       "      <th>Does your organisation currently have any policies, protocols or training programs related to deepfakes or synthetic media threats?</th>\n",
       "      <th>How confident are you in your organisation’s ability to detect or respond to deepfake threats?</th>\n",
       "      <th>Has your team received any formal training or awareness sessions related to deepfakes in the last 12 months?</th>\n",
       "      <th>Which of the following tools or methods have you heard of for detecting or verifying deepfakes? (Select all that apply)</th>\n",
       "      <th>How effective do you believe current deepfake detection technologies are?</th>\n",
       "      <th>What do you perceive as the main barriers to implementing deepfake detection tools in organisations?</th>\n",
       "      <th>Are you aware of any national or international legal frameworks addressing the regulation of deepfakes or synthetic media?</th>\n",
       "      <th>How sufficient do you believe current legal frameworks are in addressing deepfake-related threats?</th>\n",
       "      <th>Do you think there should be mandatory detection or labelling of synthetic content shared online (e.g., videos, images)?</th>\n",
       "      <th>Country of residence</th>\n",
       "      <th>Job title / role</th>\n",
       "      <th>Years of professional experience in your field</th>\n",
       "    </tr>\n",
       "  </thead>\n",
       "  <tbody>\n",
       "    <tr>\n",
       "      <th>0</th>\n",
       "      <td>2025/07/28 12:18:58 PM GMT</td>\n",
       "      <td>Yes</td>\n",
       "      <td>NaN</td>\n",
       "      <td>3</td>\n",
       "      <td>No</td>\n",
       "      <td>Pornographic or non-consensual content;Politic...</td>\n",
       "      <td>No</td>\n",
       "      <td>2</td>\n",
       "      <td>No</td>\n",
       "      <td>AI-based forensic tools (e.g., Deepware, Micro...</td>\n",
       "      <td>3</td>\n",
       "      <td>Cost</td>\n",
       "      <td>No</td>\n",
       "      <td>3</td>\n",
       "      <td>Yes</td>\n",
       "      <td>Ghana</td>\n",
       "      <td>Teaching</td>\n",
       "      <td>3–5</td>\n",
       "    </tr>\n",
       "    <tr>\n",
       "      <th>1</th>\n",
       "      <td>2025/07/28 12:34:01 PM GMT</td>\n",
       "      <td>Yes</td>\n",
       "      <td>Cybersecurity;IT Governance / Risk / Complianc...</td>\n",
       "      <td>3</td>\n",
       "      <td>No</td>\n",
       "      <td>Financial fraud / impersonation;Disinformation...</td>\n",
       "      <td>In development</td>\n",
       "      <td>2</td>\n",
       "      <td>Yes</td>\n",
       "      <td>AI-based forensic tools (e.g., Deepware, Micro...</td>\n",
       "      <td>3</td>\n",
       "      <td>Lack of awareness or training</td>\n",
       "      <td>Yes</td>\n",
       "      <td>3</td>\n",
       "      <td>Yes</td>\n",
       "      <td>Ghana</td>\n",
       "      <td>Blockchain Engineer</td>\n",
       "      <td>3–5</td>\n",
       "    </tr>\n",
       "    <tr>\n",
       "      <th>2</th>\n",
       "      <td>2025/07/28 2:11:26 PM GMT</td>\n",
       "      <td>Yes</td>\n",
       "      <td>Technology Policy / Regulation</td>\n",
       "      <td>1</td>\n",
       "      <td>No</td>\n",
       "      <td>Financial fraud / impersonation;Disinformation...</td>\n",
       "      <td>Yes</td>\n",
       "      <td>3</td>\n",
       "      <td>Yes</td>\n",
       "      <td>AI-based forensic tools (e.g., Deepware, Micro...</td>\n",
       "      <td>4</td>\n",
       "      <td>Lack of regulation or compliance pressure</td>\n",
       "      <td>No</td>\n",
       "      <td>2</td>\n",
       "      <td>Yes</td>\n",
       "      <td>Ghana</td>\n",
       "      <td>IT Instructor</td>\n",
       "      <td>6–10</td>\n",
       "    </tr>\n",
       "    <tr>\n",
       "      <th>3</th>\n",
       "      <td>2025/07/28 5:22:14 PM GMT</td>\n",
       "      <td>Yes</td>\n",
       "      <td>Cybersecurity</td>\n",
       "      <td>5</td>\n",
       "      <td>No</td>\n",
       "      <td>Financial fraud / impersonation;Disinformation...</td>\n",
       "      <td>Not sure</td>\n",
       "      <td>1</td>\n",
       "      <td>No</td>\n",
       "      <td>AI-based forensic tools (e.g., Deepware, Micro...</td>\n",
       "      <td>3</td>\n",
       "      <td>Lack of regulation or compliance pressure</td>\n",
       "      <td>No</td>\n",
       "      <td>2</td>\n",
       "      <td>Yes</td>\n",
       "      <td>UK</td>\n",
       "      <td>Security Analist</td>\n",
       "      <td>0–2</td>\n",
       "    </tr>\n",
       "    <tr>\n",
       "      <th>4</th>\n",
       "      <td>2025/07/28 5:34:31 PM GMT</td>\n",
       "      <td>Yes</td>\n",
       "      <td>Information Technology Researcher</td>\n",
       "      <td>5</td>\n",
       "      <td>No</td>\n",
       "      <td>Financial fraud / impersonation;Disinformation...</td>\n",
       "      <td>Yes</td>\n",
       "      <td>5</td>\n",
       "      <td>No</td>\n",
       "      <td>Browser or platform-level filters (e.g., Meta,...</td>\n",
       "      <td>2</td>\n",
       "      <td>Lack of regulation or compliance pressure</td>\n",
       "      <td>No</td>\n",
       "      <td>1</td>\n",
       "      <td>Yes</td>\n",
       "      <td>USA</td>\n",
       "      <td>Information Technology Researcher</td>\n",
       "      <td>0–2</td>\n",
       "    </tr>\n",
       "  </tbody>\n",
       "</table>\n",
       "</div>"
      ]
     },
     "execution_count": 5,
     "metadata": {},
     "output_type": "execute_result"
    }
   ],
   "execution_count": 5
  },
  {
   "metadata": {},
   "cell_type": "markdown",
   "source": [
    "\n",
    "# 2. Rename Columns for easier access"
   ],
   "id": "29653f0c26564b23"
  },
  {
   "metadata": {
    "ExecuteTime": {
     "end_time": "2025-08-10T18:43:40.885568Z",
     "start_time": "2025-08-10T18:43:40.881217Z"
    }
   },
   "cell_type": "code",
   "source": [
    "df.columns = [\n",
    "    \"Timestamp\", \"Consent\", \"Profession\", \"Awareness_Level\", \"Experienced_Incident\",\n",
    "    \"Perceived_Uses\", \"Has_Policy\", \"Confidence_Level\", \"Recent_Training\",\n",
    "    \"Tools_Awareness\", \"Effectiveness_Rating\", \"Barriers\",\n",
    "    \"Policy_Awareness\", \"Policy_Sufficiency\", \"Mandatory_Labelling\",\n",
    "    \"Country\", \"Job_Title\", \"Experience_Years\"\n",
    "]"
   ],
   "id": "799e75bc269a80db",
   "outputs": [],
   "execution_count": 7
  },
  {
   "metadata": {},
   "cell_type": "markdown",
   "source": "# 3. Drop Timestamp if not needed",
   "id": "fe2ed6a23001767a"
  },
  {
   "metadata": {},
   "cell_type": "code",
   "outputs": [],
   "execution_count": null,
   "source": "df.drop(columns=[\"Timestamp\"], inplace=True)",
   "id": "a371f1b71a07d514"
  },
  {
   "metadata": {},
   "cell_type": "markdown",
   "source": "# 4. Replace NaN with 'No Response'",
   "id": "3aaf7ff78e8f5e00"
  },
  {
   "metadata": {
    "ExecuteTime": {
     "end_time": "2025-08-10T18:44:20.996859Z",
     "start_time": "2025-08-10T18:44:20.989794Z"
    }
   },
   "cell_type": "code",
   "source": "df.fillna(\"No Response\", inplace=True)",
   "id": "f3aee09920344748",
   "outputs": [],
   "execution_count": 8
  },
  {
   "metadata": {},
   "cell_type": "markdown",
   "source": "# 5. Awareness Level Distribution",
   "id": "98879e6c1dee0ebc"
  },
  {
   "metadata": {
    "ExecuteTime": {
     "end_time": "2025-08-10T18:46:49.645498Z",
     "start_time": "2025-08-10T18:46:49.369563Z"
    }
   },
   "cell_type": "code",
   "source": [
    "sns.countplot(x=\"Awareness_Level\",hue=\"Awareness_Level\", data=df, palette=\"Blues_r\",)\n",
    "plt.title(\"Deepfake Awareness Level\")\n",
    "plt.xlabel(\"Awareness (1=Low, 5=High)\")\n",
    "plt.ylabel(\"Number of Respondents\")\n",
    "plt.show()"
   ],
   "id": "48923558e785f890",
   "outputs": [
    {
     "data": {
      "text/plain": [
       "<Figure size 1000x600 with 1 Axes>"
      ],
      "image/png": "[encoded data removed]"
     },
     "metadata": {},
     "output_type": "display_data"
    }
   ],
   "execution_count": 11
  }
 ],
 "metadata": {
  "kernelspec": {
   "display_name": "Python 3",
   "language": "python",
   "name": "python3"
  },
  "language_info": {
   "codemirror_mode": {
    "name": "ipython",
    "version": 2
   },
   "file_extension": ".py",
   "mimetype": "text/x-python",
   "name": "python",
   "nbconvert_exporter": "python",
   "pygments_lexer": "ipython2",
   "version": "2.7.6"
  }
 },
 "nbformat": 4,
 "nbformat_minor": 5
}
